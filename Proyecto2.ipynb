{
 "cells": [
  {
   "cell_type": "code",
   "execution_count": 1,
   "metadata": {},
   "outputs": [],
   "source": [
    "#importar librerias\n",
    "import os  # leer y escribir un archivo\n",
    "from pathlib import Path  # manipular rutas\n",
    "import pandas as pd  #manejo estructura de datos\n",
    "import numpy as np\n",
    "import seaborn as sns\n",
    "import matplotlib.pyplot as plt\n",
    "from sklearn import preprocessing\n",
    "from sklearn.model_selection import train_test_split\n",
    "from sklearn.ensemble import RandomForestRegressor\n",
    "from sklearn.linear_model import Lasso\n",
    "from sklearn.metrics import accuracy_score, roc_curve, roc_auc_score\n",
    "from sklearn.metrics import mean_squared_error\n",
    "from sklearn.metrics import mean_squared_log_error\n",
    "from sklearn.metrics import mean_absolute_error\n",
    "from sklearn.preprocessing import LabelEncoder\n"
   ]
  },
  {
   "cell_type": "code",
   "execution_count": 3,
   "metadata": {},
   "outputs": [],
   "source": [
    "dftest = pd.read_csv('properties_colombia/properties_colombia_test.csv', sep=',', encoding='utf-8') # carga de archivo\n"
   ]
  },
  {
   "cell_type": "code",
   "execution_count": 5,
   "metadata": {},
   "outputs": [],
   "source": [
    "dftrain = pd.read_csv('properties_colombia/properties_colombia_train.csv', sep=',', encoding='utf-8') # carga de archivo"
   ]
  },
  {
   "cell_type": "code",
   "execution_count": 19,
   "metadata": {},
   "outputs": [
    {
     "data": {
      "text/html": [
       "<div>\n",
       "<style scoped>\n",
       "    .dataframe tbody tr th:only-of-type {\n",
       "        vertical-align: middle;\n",
       "    }\n",
       "\n",
       "    .dataframe tbody tr th {\n",
       "        vertical-align: top;\n",
       "    }\n",
       "\n",
       "    .dataframe thead th {\n",
       "        text-align: right;\n",
       "    }\n",
       "</style>\n",
       "<table border=\"1\" class=\"dataframe\">\n",
       "  <thead>\n",
       "    <tr style=\"text-align: right;\">\n",
       "      <th></th>\n",
       "      <th>Unnamed: 0</th>\n",
       "      <th>id</th>\n",
       "      <th>ad_type</th>\n",
       "      <th>start_date</th>\n",
       "      <th>end_date</th>\n",
       "      <th>created_on</th>\n",
       "      <th>lat</th>\n",
       "      <th>lon</th>\n",
       "      <th>l1</th>\n",
       "      <th>l2</th>\n",
       "      <th>...</th>\n",
       "      <th>surface_total</th>\n",
       "      <th>surface_covered</th>\n",
       "      <th>price</th>\n",
       "      <th>currency</th>\n",
       "      <th>price_period</th>\n",
       "      <th>title</th>\n",
       "      <th>description</th>\n",
       "      <th>property_type</th>\n",
       "      <th>operation_type</th>\n",
       "      <th>geometry</th>\n",
       "    </tr>\n",
       "  </thead>\n",
       "  <tbody>\n",
       "    <tr>\n",
       "      <th>0</th>\n",
       "      <td>861131</td>\n",
       "      <td>CScTjaFiP6yCzS8tFX0ZVA==</td>\n",
       "      <td>Propiedad</td>\n",
       "      <td>2020-12-14</td>\n",
       "      <td>9999-12-31</td>\n",
       "      <td>2020-12-14</td>\n",
       "      <td>6.203000</td>\n",
       "      <td>-75.572000</td>\n",
       "      <td>Colombia</td>\n",
       "      <td>Antioquia</td>\n",
       "      <td>...</td>\n",
       "      <td>NaN</td>\n",
       "      <td>NaN</td>\n",
       "      <td>9.000000e+09</td>\n",
       "      <td>COP</td>\n",
       "      <td>NaN</td>\n",
       "      <td>Hermosa Mansión En El Poblado. Área Construida...</td>\n",
       "      <td>&lt;b&gt;Hermosa Mansión En El Poblado. Área Constru...</td>\n",
       "      <td>Casa</td>\n",
       "      <td>Venta</td>\n",
       "      <td>POINT (-75.572 6.203)</td>\n",
       "    </tr>\n",
       "    <tr>\n",
       "      <th>1</th>\n",
       "      <td>200972</td>\n",
       "      <td>DlCxox9+FuugkxS2kBVfJg==</td>\n",
       "      <td>Propiedad</td>\n",
       "      <td>2020-09-16</td>\n",
       "      <td>2021-05-14</td>\n",
       "      <td>2020-09-16</td>\n",
       "      <td>4.722748</td>\n",
       "      <td>-74.073115</td>\n",
       "      <td>Colombia</td>\n",
       "      <td>Cundinamarca</td>\n",
       "      <td>...</td>\n",
       "      <td>NaN</td>\n",
       "      <td>NaN</td>\n",
       "      <td>6.250000e+08</td>\n",
       "      <td>COP</td>\n",
       "      <td>NaN</td>\n",
       "      <td>APARTAMENTO EN VENTA, BOGOTA-CIUDAD JARDIN NORTE</td>\n",
       "      <td>Venta apartamento en piso 16 con vista exterio...</td>\n",
       "      <td>Apartamento</td>\n",
       "      <td>Venta</td>\n",
       "      <td>POINT (-74.0731146 4.7227485)</td>\n",
       "    </tr>\n",
       "  </tbody>\n",
       "</table>\n",
       "<p>2 rows × 27 columns</p>\n",
       "</div>"
      ],
      "text/plain": [
       "   Unnamed: 0                        id    ad_type  start_date    end_date  \\\n",
       "0      861131  CScTjaFiP6yCzS8tFX0ZVA==  Propiedad  2020-12-14  9999-12-31   \n",
       "1      200972  DlCxox9+FuugkxS2kBVfJg==  Propiedad  2020-09-16  2021-05-14   \n",
       "\n",
       "   created_on       lat        lon        l1            l2  ... surface_total  \\\n",
       "0  2020-12-14  6.203000 -75.572000  Colombia     Antioquia  ...           NaN   \n",
       "1  2020-09-16  4.722748 -74.073115  Colombia  Cundinamarca  ...           NaN   \n",
       "\n",
       "  surface_covered         price currency  price_period  \\\n",
       "0             NaN  9.000000e+09      COP           NaN   \n",
       "1             NaN  6.250000e+08      COP           NaN   \n",
       "\n",
       "                                               title  \\\n",
       "0  Hermosa Mansión En El Poblado. Área Construida...   \n",
       "1   APARTAMENTO EN VENTA, BOGOTA-CIUDAD JARDIN NORTE   \n",
       "\n",
       "                                         description  property_type  \\\n",
       "0  <b>Hermosa Mansión En El Poblado. Área Constru...           Casa   \n",
       "1  Venta apartamento en piso 16 con vista exterio...    Apartamento   \n",
       "\n",
       "   operation_type                       geometry  \n",
       "0           Venta          POINT (-75.572 6.203)  \n",
       "1           Venta  POINT (-74.0731146 4.7227485)  \n",
       "\n",
       "[2 rows x 27 columns]"
      ]
     },
     "execution_count": 19,
     "metadata": {},
     "output_type": "execute_result"
    }
   ],
   "source": [
    "dftrain.head(2)"
   ]
  },
  {
   "cell_type": "code",
   "execution_count": null,
   "metadata": {},
   "outputs": [],
   "source": [
    "#graficasmos el historial de Prices\n",
    "sns.d"
   ]
  }
 ],
 "metadata": {
  "kernelspec": {
   "display_name": "Python 3.10.5 64-bit",
   "language": "python",
   "name": "python3"
  },
  "language_info": {
   "codemirror_mode": {
    "name": "ipython",
    "version": 3
   },
   "file_extension": ".py",
   "mimetype": "text/x-python",
   "name": "python",
   "nbconvert_exporter": "python",
   "pygments_lexer": "ipython3",
   "version": "3.10.5"
  },
  "orig_nbformat": 4,
  "vscode": {
   "interpreter": {
    "hash": "27f6fea6f47ae512550f0b8facdbd035a93e1dd89633f7bf2dd00a2502c71d0d"
   }
  }
 },
 "nbformat": 4,
 "nbformat_minor": 2
}
